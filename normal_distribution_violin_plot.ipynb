{
 "cells": [
  {
   "cell_type": "markdown",
   "id": "58a4e97c",
   "metadata": {},
   "source": [
    "We will generate a normal distribution using `numpy` and visualize it using a violin plot with `seaborn`. First, let's import the necessary libraries."
   ]
  },
  {
   "cell_type": "code",
   "execution_count": 1,
   "id": "01b43ddd",
   "metadata": {
    "execution": {
     "iopub.execute_input": "2025-04-02T10:42:08.038371Z",
     "iopub.status.busy": "2025-04-02T10:42:08.037944Z",
     "iopub.status.idle": "2025-04-02T10:42:08.259324Z",
     "shell.execute_reply": "2025-04-02T10:42:08.258604Z"
    }
   },
   "outputs": [
    {
     "ename": "ModuleNotFoundError",
     "evalue": "No module named 'seaborn'",
     "output_type": "error",
     "traceback": [
      "\u001b[31m---------------------------------------------------------------------------\u001b[39m",
      "\u001b[31mModuleNotFoundError\u001b[39m                       Traceback (most recent call last)",
      "\u001b[36mCell\u001b[39m\u001b[36m \u001b[39m\u001b[32mIn[1]\u001b[39m\u001b[32m, line 2\u001b[39m\n\u001b[32m      1\u001b[39m \u001b[38;5;28;01mimport\u001b[39;00m\u001b[38;5;250m \u001b[39m\u001b[34;01mnumpy\u001b[39;00m\u001b[38;5;250m \u001b[39m\u001b[38;5;28;01mas\u001b[39;00m\u001b[38;5;250m \u001b[39m\u001b[34;01mnp\u001b[39;00m\n\u001b[32m----> \u001b[39m\u001b[32m2\u001b[39m \u001b[38;5;28;01mimport\u001b[39;00m\u001b[38;5;250m \u001b[39m\u001b[34;01mseaborn\u001b[39;00m\u001b[38;5;250m \u001b[39m\u001b[38;5;28;01mas\u001b[39;00m\u001b[38;5;250m \u001b[39m\u001b[34;01msns\u001b[39;00m\n\u001b[32m      3\u001b[39m \u001b[38;5;28;01mimport\u001b[39;00m\u001b[38;5;250m \u001b[39m\u001b[34;01mmatplotlib\u001b[39;00m\u001b[34;01m.\u001b[39;00m\u001b[34;01mpyplot\u001b[39;00m\u001b[38;5;250m \u001b[39m\u001b[38;5;28;01mas\u001b[39;00m\u001b[38;5;250m \u001b[39m\u001b[34;01mplt\u001b[39;00m\n",
      "\u001b[31mModuleNotFoundError\u001b[39m: No module named 'seaborn'"
     ]
    }
   ],
   "source": [
    "import numpy as np\n",
    "import seaborn as sns\n",
    "import matplotlib.pyplot as plt"
   ]
  },
  {
   "cell_type": "markdown",
   "id": "21769d31",
   "metadata": {},
   "source": [
    "Now, let's generate the normal distribution data using `numpy.random.normal`. We'll create 1000 data points with a mean of 0 and a standard deviation of 1."
   ]
  },
  {
   "cell_type": "code",
   "execution_count": null,
   "id": "ee2cb1b6",
   "metadata": {},
   "outputs": [],
   "source": [
    "data = np.random.normal(0, 1, 1000)"
   ]
  },
  {
   "cell_type": "markdown",
   "id": "8e1b479a",
   "metadata": {},
   "source": [
    "Next, we'll use `seaborn` to create a violin plot of the generated data."
   ]
  },
  {
   "cell_type": "code",
   "execution_count": null,
   "id": "c12acfba",
   "metadata": {},
   "outputs": [],
   "source": [
    "sns.violinplot(x=data)\n",
    "plt.title('Violin Plot of Normal Distribution')\n",
    "plt.xlabel('Value')\n",
    "plt.ylabel('Density')\n",
    "plt.savefig('normal_distribution_violin.png')"
   ]
  },
  {
   "cell_type": "markdown",
   "id": "e320cf23",
   "metadata": {},
   "source": [
    "The plot is now saved as `normal_distribution_violin.png`."
   ]
  }
 ],
 "metadata": {
  "language_info": {
   "codemirror_mode": {
    "name": "ipython",
    "version": 3
   },
   "file_extension": ".py",
   "mimetype": "text/x-python",
   "name": "python",
   "nbconvert_exporter": "python",
   "pygments_lexer": "ipython3",
   "version": "3.13.2"
  }
 },
 "nbformat": 4,
 "nbformat_minor": 5
}